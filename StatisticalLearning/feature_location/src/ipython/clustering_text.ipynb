{
 "cells": [
  {
   "cell_type": "code",
   "execution_count": 593,
   "metadata": {
    "collapsed": false
   },
   "outputs": [],
   "source": [
    "%matplotlib inline\n",
    "from sklearn.feature_extraction.text import HashingVectorizer\n",
    "from sklearn.feature_extraction.text import TfidfVectorizer\n",
    "from sklearn.feature_extraction.text import TfidfTransformer\n",
    "from sklearn.feature_extraction import DictVectorizer\n",
    "from sklearn.pipeline import make_pipeline\n",
    "from sklearn.decomposition import TruncatedSVD\n",
    "from sklearn.preprocessing import Normalizer\n",
    "from sklearn.cluster import KMeans\n",
    "from sklearn import metrics\n",
    "from nltk.stem.snowball import SnowballStemmer\n",
    "from nltk.tokenize import word_tokenize\n",
    "from nltk.corpus import stopwords\n",
    "from matplotlib.pyplot import bar\n",
    "from numpy.random import RandomState\n",
    "import matplotlib.pyplot as plt \n",
    "import numpy as np\n",
    "import pandas as pd\n",
    "from re import match\n",
    "from re import sub\n",
    "from re import split\n",
    "from copy import deepcopy"
   ]
  },
  {
   "cell_type": "markdown",
   "metadata": {},
   "source": [
    "# clustering"
   ]
  },
  {
   "cell_type": "markdown",
   "metadata": {},
   "source": [
    "## files"
   ]
  },
  {
   "cell_type": "code",
   "execution_count": 594,
   "metadata": {
    "collapsed": true
   },
   "outputs": [],
   "source": [
    "file_name='/home/chaomai/Documents/Codes/Current/feature_location/data/AllDatajEdit4.3/Corpus-jEdit4.3/Corpus-jEdit4.3CorpusTransformedStemmed.OUT'\n",
    "java_keywords_file_name = '/home/chaomai/Documents/Codes/Current/feature_location/data/java_keywords.txt'\n",
    "functions_file_name='/home/chaomai/Documents/Codes/Current/feature_location/data/AllDatajEdit4.3/Corpus-jEdit4.3/Corpus-jEdit4.3.mapping'\n",
    "query_file_name='/home/chaomai/Documents/Codes/Current/feature_location/data/AllDatajEdit4.3/Queries-jEdit4.3ShortLongDescriptionCorpusTransformedStemmed.OUT'\n",
    "verb_words_file_name='/home/chaomai/Documents/Codes/Current/feature_location/data/verb_words.txt'"
   ]
  },
  {
   "cell_type": "code",
   "execution_count": 595,
   "metadata": {
    "collapsed": false
   },
   "outputs": [
    {
     "name": "stdout",
     "output_type": "stream",
     "text": [
      "6413\n",
      "['abstract', 'assert', 'boolean', 'break', 'byte', 'case', 'catch', 'char', 'class', 'const']\n",
      "['set', 'get', 'init', 'start', 'stop', 'end', 'push', 'pop', 'pre']\n",
      "['gui.AbbrevEditor.AbbrevEditor', 'gui.AbbrevEditor.getAbbrev', 'gui.AbbrevEditor.setAbbrev', 'gui.AbbrevEditor.getExpansion', 'gui.AbbrevEditor.setExpansion', 'gui.AbbrevEditor.getAbbrevField', 'gui.AbbrevEditor.getBeforeCaretTextArea', 'gui.AbbrevEditor.getAfterCaretTextArea', 'Abbrevs.getExpandOnInput', 'Abbrevs.setExpandOnInput']\n"
     ]
    }
   ],
   "source": [
    "file=open(file_name)\n",
    "dataset=file.readlines()\n",
    "\n",
    "java_keywords_file=open(java_keywords_file_name)\n",
    "keywords=java_keywords_file.readlines()\n",
    "java_keywords=[word_tokenize(k)[0] for k in keywords]\n",
    "\n",
    "verb_words_file=open(verb_words_file_name)\n",
    "keywords=verb_words_file.readlines()\n",
    "verb_words=[word_tokenize(k)[0] for k in keywords]\n",
    "\n",
    "functions_file=open(functions_file_name)\n",
    "functions=functions_file.readlines()\n",
    "jedit_functions=[sub('org.gjt.sp.jedit.', '', word_tokenize(k)[0]) for k in functions]\n",
    "\n",
    "for i in range(len(dataset)):\n",
    "    dataset[i] += sub('\\.|_', ' ', sub('[A-Z]', lambda m: ' ' + m.group(0).lower(), jedit_functions[i]))\n",
    "\n",
    "query_file=open(query_file_name)\n",
    "query=[q for q in query_file.readlines() if len(q)>1]\n",
    "\n",
    "print(len(dataset))\n",
    "print(java_keywords[:10])\n",
    "print(verb_words[:10])\n",
    "print(jedit_functions[:10])"
   ]
  },
  {
   "cell_type": "markdown",
   "metadata": {},
   "source": [
    "## vectorize"
   ]
  },
  {
   "cell_type": "markdown",
   "metadata": {},
   "source": [
    "### remove stop words and stem"
   ]
  },
  {
   "cell_type": "code",
   "execution_count": 596,
   "metadata": {
    "collapsed": false
   },
   "outputs": [],
   "source": [
    "def tokenize_stop_stem(text):\n",
    "    tokens = word_tokenize(text)\n",
    "    filtered_tokens = []\n",
    "    stop_words = stopwords.words('english')\n",
    "    for token in tokens:\n",
    "        # '[a-zA-Z]*$', each character in token must be alphabet\n",
    "        if match('[a-zA-Z]*$', token) is not None and len(token) > 2 \\\n",
    "                and token not in stop_words \\\n",
    "                and token not in java_keywords \\\n",
    "                and token not in verb_words:\n",
    "            filtered_tokens.append(token)\n",
    "\n",
    "    stemmer = SnowballStemmer(\"english\")\n",
    "    stems = [stemmer.stem(t) for t in filtered_tokens]\n",
    "    return stems"
   ]
  },
  {
   "cell_type": "code",
   "execution_count": 597,
   "metadata": {
    "collapsed": false
   },
   "outputs": [],
   "source": [
    "# totalvocab_stop_stemmed=[]\n",
    "# for i in range(len(dataset)):\n",
    "#     allwords_tokenized = tokenize_stop_stem(dataset[i])\n",
    "#     totalvocab_stop_stemmed.extend(allwords_tokenized)\n",
    "# print(len(totalvocab_stop_stemmed))\n",
    "# print(np.unique(totalvocab_stop_stemmed).shape)"
   ]
  },
  {
   "cell_type": "markdown",
   "metadata": {},
   "source": [
    "### HashingVectorizer"
   ]
  },
  {
   "cell_type": "code",
   "execution_count": 598,
   "metadata": {
    "collapsed": false
   },
   "outputs": [],
   "source": [
    "# hasher = HashingVectorizer(n_features=3000, non_negative=True,\n",
    "#                            norm=None, binary=False,\n",
    "#                            tokenizer=tokenize_stop_stem, ngram_range=(1, 1))\n",
    "# hasher"
   ]
  },
  {
   "cell_type": "code",
   "execution_count": 599,
   "metadata": {
    "collapsed": false
   },
   "outputs": [],
   "source": [
    "# vectorizer = make_pipeline(hasher, TfidfTransformer())\n",
    "# vectorizer"
   ]
  },
  {
   "cell_type": "markdown",
   "metadata": {},
   "source": [
    "### TfidfVectorizer"
   ]
  },
  {
   "cell_type": "code",
   "execution_count": 600,
   "metadata": {
    "collapsed": false
   },
   "outputs": [
    {
     "data": {
      "text/plain": [
       "TfidfVectorizer(analyzer='word', binary=False, decode_error='strict',\n",
       "        dtype=<class 'numpy.int64'>, encoding='utf-8', input='content',\n",
       "        lowercase=True, max_df=1.0, max_features=3000, min_df=1,\n",
       "        ngram_range=(1, 1), norm='l2', preprocessor=None, smooth_idf=True,\n",
       "        stop_words=None, strip_accents=None, sublinear_tf=False,\n",
       "        token_pattern='(?u)\\\\b\\\\w\\\\w+\\\\b',\n",
       "        tokenizer=<function tokenize_stop_stem at 0x7f7e223ae6a8>,\n",
       "        use_idf=True, vocabulary=None)"
      ]
     },
     "execution_count": 600,
     "metadata": {},
     "output_type": "execute_result"
    }
   ],
   "source": [
    "# When using a float in the range [0.0, 1.0] they refer to the document frequency.\n",
    "# That is the percentage of documents that contain the term.\n",
    "# When using an int it refers to absolute number of documents that hold this term.\n",
    "\n",
    "vectorizer = TfidfVectorizer(max_df=1.0, min_df=1, max_features=3000,\n",
    "                             use_idf=True, tokenizer=tokenize_stop_stem)\n",
    "vectorizer"
   ]
  },
  {
   "cell_type": "markdown",
   "metadata": {},
   "source": [
    "### perform vectorize"
   ]
  },
  {
   "cell_type": "code",
   "execution_count": 601,
   "metadata": {
    "collapsed": false
   },
   "outputs": [
    {
     "data": {
      "text/plain": [
       "(6413, 3000)"
      ]
     },
     "execution_count": 601,
     "metadata": {},
     "output_type": "execute_result"
    }
   ],
   "source": [
    "X = vectorizer.fit_transform(dataset)\n",
    "X.shape"
   ]
  },
  {
   "cell_type": "code",
   "execution_count": 602,
   "metadata": {
    "collapsed": false
   },
   "outputs": [
    {
     "data": {
      "text/plain": [
       "['abbrev',\n",
       " 'abbrevi',\n",
       " 'abil',\n",
       " 'abl',\n",
       " 'abnorm',\n",
       " 'abort',\n",
       " 'abov',\n",
       " 'abovedot',\n",
       " 'absolut',\n",
       " 'acc']"
      ]
     },
     "execution_count": 602,
     "metadata": {},
     "output_type": "execute_result"
    }
   ],
   "source": [
    "feature_names=vectorizer.get_feature_names()\n",
    "feature_names[:10]"
   ]
  },
  {
   "cell_type": "markdown",
   "metadata": {},
   "source": [
    "## decomposition"
   ]
  },
  {
   "cell_type": "markdown",
   "metadata": {},
   "source": [
    "### LSA"
   ]
  },
  {
   "cell_type": "markdown",
   "metadata": {},
   "source": [
    "#### perform LSA"
   ]
  },
  {
   "cell_type": "code",
   "execution_count": 603,
   "metadata": {
    "collapsed": false,
    "scrolled": true
   },
   "outputs": [],
   "source": [
    "# svd = TruncatedSVD(n_components=800)\n",
    "# lsa = make_pipeline(svd, Normalizer(copy=False))\n",
    "# X = lsa.fit_transform(X)\n",
    "# print(X.shape)\n",
    "# explained_variance = svd.explained_variance_ratio_.sum()\n",
    "# print(\"Explained variance: {}%\".format(int(explained_variance * 100)))"
   ]
  },
  {
   "cell_type": "markdown",
   "metadata": {},
   "source": [
    "## Cluster"
   ]
  },
  {
   "cell_type": "markdown",
   "metadata": {},
   "source": [
    "### perform cluster"
   ]
  },
  {
   "cell_type": "code",
   "execution_count": 604,
   "metadata": {
    "collapsed": false
   },
   "outputs": [
    {
     "name": "stdout",
     "output_type": "stream",
     "text": [
      "KMeans(copy_x=True, init='k-means++', max_iter=500, n_clusters=600, n_init=20,\n",
      "    n_jobs=-1, precompute_distances='auto', random_state=None, tol=0.0001,\n",
      "    verbose=False)\n"
     ]
    }
   ],
   "source": [
    "num_clusters = 600\n",
    "km = KMeans(n_clusters=num_clusters, init='k-means++', max_iter=500, n_init=20, verbose=False, n_jobs=-1)\n",
    "print(km)"
   ]
  },
  {
   "cell_type": "code",
   "execution_count": 605,
   "metadata": {
    "collapsed": false
   },
   "outputs": [
    {
     "name": "stdout",
     "output_type": "stream",
     "text": [
      "(6413,)\n",
      "Silhouette Coefficient: 0.131\n"
     ]
    },
    {
     "name": "stderr",
     "output_type": "stream",
     "text": [
      "/usr/lib64/python3.4/site-packages/numpy/core/_methods.py:59: RuntimeWarning: Mean of empty slice.\n",
      "  warnings.warn(\"Mean of empty slice.\", RuntimeWarning)\n"
     ]
    }
   ],
   "source": [
    "km.fit(X)\n",
    "print(km.labels_.shape)\n",
    "# a measure of how tightly grouped all the data in the cluster are\n",
    "print(\"Silhouette Coefficient: %0.3f\" % metrics.silhouette_score(X, km.labels_, sample_size=2000))"
   ]
  },
  {
   "cell_type": "markdown",
   "metadata": {},
   "source": [
    "## results of cluster"
   ]
  },
  {
   "cell_type": "code",
   "execution_count": 606,
   "metadata": {
    "collapsed": false
   },
   "outputs": [],
   "source": [
    "l = np.unique(km.labels_)\n",
    "clusters_counts = []\n",
    "\n",
    "for i in l:\n",
    "#     print(\"Cluster %d:\" % i, sum(km.labels_==i))\n",
    "    clusters_counts.append(sum(km.labels_==i))"
   ]
  },
  {
   "cell_type": "code",
   "execution_count": 607,
   "metadata": {
    "collapsed": false
   },
   "outputs": [
    {
     "data": {
      "text/plain": [
       "<Container object of 600 artists>"
      ]
     },
     "execution_count": 607,
     "metadata": {},
     "output_type": "execute_result"
    },
    {
     "data": {
      "image/png": "[encoded data removed]",
      "text/plain": [
       "<matplotlib.figure.Figure at 0x7f7e21c607b8>"
      ]
     },
     "metadata": {},
     "output_type": "display_data"
    }
   ],
   "source": [
    "plt.figure(figsize=(60 ,10))\n",
    "plt.xticks(range(0, num_clusters * 5 , 5), range(num_clusters))\n",
    "plt.bar(range(0, num_clusters * 5 , 5), clusters_counts, width=2)"
   ]
  },
  {
   "cell_type": "markdown",
   "metadata": {},
   "source": [
    "# query"
   ]
  },
  {
   "cell_type": "markdown",
   "metadata": {},
   "source": [
    "## vectorize"
   ]
  },
  {
   "cell_type": "code",
   "execution_count": 608,
   "metadata": {
    "collapsed": false
   },
   "outputs": [
    {
     "data": {
      "text/plain": [
       "3000"
      ]
     },
     "execution_count": 608,
     "metadata": {},
     "output_type": "execute_result"
    }
   ],
   "source": [
    "features = vectorizer.get_feature_names()\n",
    "\n",
    "features_dict={}\n",
    "for f in features:\n",
    "    if f not in features_dict:\n",
    "        features_dict[f] = 0\n",
    "len(features_dict)"
   ]
  },
  {
   "cell_type": "code",
   "execution_count": 609,
   "metadata": {
    "collapsed": false
   },
   "outputs": [],
   "source": [
    "counter_list=[]\n",
    "for q in query:\n",
    "    line = tokenize_stop_stem(q)\n",
    "    temp_dict = deepcopy(features_dict)\n",
    "    for t in line:   \n",
    "        if t in temp_dict:\n",
    "            temp_dict[t] += 1\n",
    "    counter_list.append(temp_dict)"
   ]
  },
  {
   "cell_type": "code",
   "execution_count": 610,
   "metadata": {
    "collapsed": false
   },
   "outputs": [
    {
     "data": {
      "text/plain": [
       "<150x3000 sparse matrix of type '<class 'numpy.float64'>'\n",
       "\twith 4529 stored elements in Compressed Sparse Row format>"
      ]
     },
     "execution_count": 610,
     "metadata": {},
     "output_type": "execute_result"
    }
   ],
   "source": [
    "v = DictVectorizer(sparse=True)\n",
    "v_pipe = make_pipeline(v, TfidfTransformer())\n",
    "x = v_pipe.fit_transform(counter_list)\n",
    "x"
   ]
  },
  {
   "cell_type": "markdown",
   "metadata": {},
   "source": [
    "## perform query"
   ]
  },
  {
   "cell_type": "code",
   "execution_count": 611,
   "metadata": {
    "collapsed": false
   },
   "outputs": [],
   "source": [
    "# q = x * svd.components_.T\n",
    "# q.shape"
   ]
  },
  {
   "cell_type": "code",
   "execution_count": 612,
   "metadata": {
    "collapsed": false
   },
   "outputs": [
    {
     "data": {
      "text/plain": [
       "array([159, 280, 159, 202,  75, 389, 362, 137,  96, 398, 302, 502,  84,\n",
       "       128,  67, 202, 407, 202, 115, 128, 140,  57, 321,  56,  95,  67,\n",
       "       136, 569, 246, 181, 269, 132,  41, 165, 430, 241, 144, 292, 115,\n",
       "       152, 104, 128, 152,  74, 202, 436, 168, 134, 327,  62, 341, 586,\n",
       "        56, 202, 385, 547, 533, 226, 292, 128, 202, 419, 487, 436, 152,\n",
       "       583, 249, 342, 292, 137, 115, 388, 407, 280, 157, 436, 186, 159,\n",
       "       562, 336, 393, 388, 506, 516, 257, 417, 364, 122, 147, 503, 134,\n",
       "       128, 128, 202, 134, 270, 202, 128,   9, 543, 341,  67, 389,  84,\n",
       "       137, 542, 582, 386, 520, 246, 452, 503, 128, 503, 163, 503, 436,\n",
       "       202,  47, 249, 501, 186,  13, 122, 160, 586, 569, 322, 547, 498,\n",
       "       202,  89, 292, 415, 163, 202, 457, 501,  70, 416, 328, 202, 292,\n",
       "       501, 159, 202, 202, 292, 292, 133], dtype=int32)"
      ]
     },
     "execution_count": 612,
     "metadata": {},
     "output_type": "execute_result"
    }
   ],
   "source": [
    "# ans=km.predict(q)\n",
    "ans=km.predict(x)\n",
    "ans"
   ]
  },
  {
   "cell_type": "code",
   "execution_count": 613,
   "metadata": {
    "collapsed": false
   },
   "outputs": [
    {
     "name": "stdout",
     "output_type": "stream",
     "text": [
      "(600, 3000)\n",
      "(6413,)\n"
     ]
    }
   ],
   "source": [
    "print(km.cluster_centers_.shape)\n",
    "print(km.labels_.shape)"
   ]
  },
  {
   "cell_type": "code",
   "execution_count": 614,
   "metadata": {
    "collapsed": false
   },
   "outputs": [],
   "source": [
    "bench=['buffer.BufferAdapter.preContentInserted', 'buffer.BufferChangeListener.Adapter.preContentInserted', 'buffer.JEditBuffer.fireFoldLevelChanged', 'buffer.JEditBuffer.fireContentInserted', 'buffer.JEditBuffer.fireContentRemoved', 'buffer.JEditBuffer.firePreContentInserted', 'buffer.JEditBuffer.firePreContentRemoved', 'buffer.JEditBuffer.fireTransactionComplete', 'buffer.JEditBuffer.fireFoldHandlerChanged', 'buffer.JEditBuffer.fireBufferLoaded', 'buffer.JEditBuffer.loadText', 'buffer.JEditBuffer.contentInserted', 'textarea.BufferHandler.contentInserted', 'textarea.BufferHandler.preContentInserted', 'textarea.BufferHandler.preContentRemoved', 'textarea.BufferHandler.getReadyToBreakFold', 'textarea.BufferHandler.contentRemoved', 'textarea.RangeMap.RangeMap', 'textarea.RangeMap.put', 'textarea.RangeMap.dump']"
   ]
  },
  {
   "cell_type": "code",
   "execution_count": 615,
   "metadata": {
    "collapsed": false
   },
   "outputs": [
    {
     "data": {
      "text/plain": [
       "[679, 688, 697, 707, 713, 722, 1202, 1203, 1204, 1266]"
      ]
     },
     "execution_count": 615,
     "metadata": {},
     "output_type": "execute_result"
    }
   ],
   "source": [
    "predict=[]\n",
    "for i in range(len(km.labels_)):\n",
    "    if km.labels_[i] == ans[0]:\n",
    "        predict.append(i)\n",
    "predict[:10]"
   ]
  },
  {
   "cell_type": "code",
   "execution_count": 616,
   "metadata": {
    "collapsed": false
   },
   "outputs": [],
   "source": [
    "predict_functions=[]\n",
    "for a in predict:\n",
    "    predict_functions.append(jedit_functions[a])"
   ]
  },
  {
   "cell_type": "code",
   "execution_count": 617,
   "metadata": {
    "collapsed": false
   },
   "outputs": [
    {
     "name": "stdout",
     "output_type": "stream",
     "text": [
      "{'textarea.BufferHandler.getReadyToBreakFold'}\n",
      "0.034482758620689655\n"
     ]
    }
   ],
   "source": [
    "print(set.intersection(set(bench), set(predict_functions)))\n",
    "print(len(set.intersection(set(bench), set(predict_functions)))/len(set(predict_functions)))"
   ]
  }
 ],
 "metadata": {
  "kernelspec": {
   "display_name": "Python 3",
   "language": "python",
   "name": "python3"
  },
  "language_info": {
   "codemirror_mode": {
    "name": "ipython",
    "version": 3
   },
   "file_extension": ".py",
   "mimetype": "text/x-python",
   "name": "python",
   "nbconvert_exporter": "python",
   "pygments_lexer": "ipython3",
   "version": "3.4.2"
  }
 },
 "nbformat": 4,
 "nbformat_minor": 0
}
